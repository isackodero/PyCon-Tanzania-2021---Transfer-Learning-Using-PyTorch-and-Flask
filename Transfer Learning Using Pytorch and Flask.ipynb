{
 "cells": [
  {
   "cell_type": "markdown",
   "id": "informative-warehouse",
   "metadata": {},
   "source": [
    "## -*- coding: utf-8 -*-"
   ]
  },
  {
   "cell_type": "markdown",
   "id": "collective-metabolism",
   "metadata": {},
   "source": [
    "\n",
    "Transfer Learning for Computer Vision Using PyTorch and Flask\n",
    "====================================================\n",
    "**Author**: `Isack Odero`"
   ]
  },
  {
   "cell_type": "markdown",
   "id": "champion-struggle",
   "metadata": {},
   "source": [
    "`In this tutorial, you will learn how to train a convolutional neural network for\n",
    " image classification using transfer learning and also How to wrap your trained \n",
    " PyTorch model in a Flask container to expose it via a web API`"
   ]
  },
  {
   "cell_type": "markdown",
   "id": "indian-orange",
   "metadata": {},
   "source": [
    "In this recipe, you will learn:\n",
    "\n",
    "In Transfer Learning:\n",
    "\n",
    "-  How to Load your datasets \n",
    "-  How to Visualize your datasets\n",
    "-  How to Write a general function to training your model\n",
    "-  How to Finetuning the Conv Net\n",
    "-  How to run Conv Net as Feature extractor\n",
    "-  How to save your model\n",
    "\n",
    "In Deploying your Modelwith Flask:\n",
    "\n",
    "-  How to wrap your trained PyTorch model in a Flask container to expose\n",
    "   it via a web API\n",
    "-  How to translate incoming web requests into PyTorch tensors for your\n",
    "   model\n",
    "-  How to package your model’s output for an HTTP response\n",
    "\n",
    "Requirements\n",
    "------------\n",
    "\n",
    "You will need a Python 3 environment with the following packages (and\n",
    "their dependencies) installed:\n",
    "\n",
    "-  PyTorch \n",
    "-  TorchVision \n",
    "-  Matplotlib.pyplot\n",
    "-  copy\n",
    "-  os\n",
    "-  numpy\n",
    "-  Flask 1.1 "
   ]
  },
  {
   "cell_type": "markdown",
   "id": "banned-guyana",
   "metadata": {},
   "source": [
    "### Introduction to Transfer Learning"
   ]
  },
  {
   "cell_type": "markdown",
   "id": "sharing-nylon",
   "metadata": {},
   "source": [
    "Transfer Learning:\n",
    "\n",
    "-  In practice, very few people train an entire Convolutional\n",
    "   Network from scratch , because it is relatively rare to have a dataset of sufficient size. Instead, it is\n",
    "   common to pretrain a ConvNet on a very large dataset (e.g.\n",
    "   ImageNet, which contains 1.2 million images with 1000\n",
    "   categories), and then use the ConvNet either as an initialization\n",
    "   or a fixed feature extractor for the task of interest.\n",
    "\n"
   ]
  },
  {
   "cell_type": "markdown",
   "id": "rental-politics",
   "metadata": {},
   "source": [
    "Transfer Learning scenarios:\n",
    "\n",
    "-  1: ConvNet as fixed feature extractor.\n",
    "      -   Here we freeze the weights and bias of all network except thatof fully connected layer, \n",
    "          then this fully connected layer is trained and it' weight and bias are replaced with new ones. \n",
    "          \n",
    "          \n",
    "          \n",
    "          \n",
    "-  2: Fine-tuning the ConvNet..\n",
    "      -   Here we initialize our Network using pretrained Network and train it. Here we do not initialize our               network randomly.  It is possible to fine-tune all the layers of the ConvNet, or it’s possible to keep             some of the earlier layers fixed (due to overfitting concerns) and only fine-tune some higher-level               portion of the network. \n",
    "      \n",
    "      \n",
    "      \n",
    "          \n",
    "-  3: Pretrained models.\n",
    "      -   Since modern ConvNets can take weeks to train across multiple GPUs on ImageNet, it is common to see               people release their final ConvNet checkpoints for the benefit of others who can use the networks for             fine-tuning. "
   ]
  },
  {
   "cell_type": "markdown",
   "id": "genetic-stick",
   "metadata": {},
   "source": [
    "When and how to fine-tune?:\n",
    "-  Important ones are the size of the new dataset (small or big), and its similarity to the original dataset.\n",
    "\n",
    "\n",
    "\n",
    "\n",
    "   -  1: New dataset is small and similar to original dataset.\n",
    "      -   Since the data is small, it is not a good idea to fine-tune the ConvNet due to overfitting concerns.               Since the data is similar to the original data, we expect higher-level features in the ConvNet to be               relevant to this dataset as well. Hence, the best idea might be to train a linear classifier on the CNN           codes.\n",
    "          \n",
    "          \n",
    "          \n",
    "          \n",
    "   -  2: New dataset is large and similar to the original dataset.\n",
    "      -   Since we have more data, we can have more confidence that we won’t overfit if we were to try to fine -             tune through the full network.\n",
    "      \n",
    "      \n",
    "      \n",
    "          \n",
    "   -  3: New dataset is small but very different from the original dataset.\n",
    "      -   Since the data is small, it is likely best to only train a linear classifier. Since the dataset is very           different, it might not be best to train the classifier from the top of the network, which contains more           dataset-specific features. Instead, it might work better to train the SVM classifier from activations             somewhere earlier in the network. \n",
    "            \n",
    "      \n",
    "      \n",
    "          \n",
    "   -  4: New dataset is large and very different from the originaldataset.\n",
    "      -   Since the dataset is very large, we may expect that we can afford to train a ConvNet from scratch.                 However, in practice it is very often still beneficial to initialize with weights from a pretrained               model. In this case, we would have enough data and confidence to fine-tune through the entire network."
   ]
  },
  {
   "cell_type": "markdown",
   "id": "prepared-george",
   "metadata": {},
   "source": [
    "### Define the Problem.\n",
    "-  The problem we’re going to solve today is to train a model to classify ants and bees. We have about 120            training images each for ants and bees. There are 75 validation images for each class. Usually, this is a very    small dataset to generalize upon, if trained from scratch. Since we are using transfer learning, we should be\n",
    "   able to generalize reasonably well\n",
    "\n",
    "\n",
    "\n",
    "\n",
    "   -  This dataset is a very small subset of imagenet.\n",
    "  "
   ]
  },
  {
   "cell_type": "markdown",
   "id": "tamil-bottle",
   "metadata": {},
   "source": [
    "**Author**: `Isack Odero`"
   ]
  },
  {
   "cell_type": "code",
   "execution_count": 1,
   "id": "reliable-promotion",
   "metadata": {},
   "outputs": [
    {
     "name": "stdout",
     "output_type": "stream",
     "text": [
      "Torch Version: 1.10.0+cu102 \n",
      "TorchVision Version: 0.11.1+cu102\n"
     ]
    }
   ],
   "source": [
    "import torch\n",
    "import torchvision\n",
    "from torchvision import transforms, models, datasets\n",
    "\n",
    "import numpy as np\n",
    "import matplotlib.pyplot as plt\n",
    "import os\n",
    "import copy\n",
    "\n",
    "plt.ion()\n",
    "\n",
    "print(\"Torch Version: {} \\nTorchVision Version: {}\".format(torch.__version__, torchvision.__version__))"
   ]
  },
  {
   "cell_type": "markdown",
   "id": "conceptual-median",
   "metadata": {},
   "source": [
    "\n",
    "Load Data\n",
    "---------------\n",
    "\n",
    "-  We will use `torchvision` and `torch.utils.data` packages for:\n",
    "\n",
    "   - loading the data.\n",
    "\n",
    "   -  Data augmentation and normalization for training\n",
    "   \n",
    "   \n",
    "   \n",
    "note: `data_dir is the root directory where you put your data in your computer, in which for me is \"/home/isack/Desktop/PyCon Tanzania 2021/data\"`"
   ]
  },
  {
   "cell_type": "code",
   "execution_count": 2,
   "id": "reduced-motion",
   "metadata": {},
   "outputs": [
    {
     "name": "stdout",
     "output_type": "stream",
     "text": [
      "cpu\n"
     ]
    },
    {
     "name": "stderr",
     "output_type": "stream",
     "text": [
      "/home/isack/.local/lib/python3.8/site-packages/torch/cuda/__init__.py:80: UserWarning: CUDA initialization: The NVIDIA driver on your system is too old (found version 10010). Please update your GPU driver by downloading and installing a new version from the URL: http://www.nvidia.com/Download/index.aspx Alternatively, go to: https://pytorch.org to install a PyTorch version that has been compiled with your version of the CUDA driver. (Triggered internally at  ../c10/cuda/CUDAFunctions.cpp:112.)\n",
      "  return torch._C._cuda_getDeviceCount() > 0\n"
     ]
    }
   ],
   "source": [
    "# This is my directory\n",
    "data_dir=\"/home/isack/Desktop/PyCon Tanzania 2021/data\"\n",
    "\n",
    "# Data augmentation and normalization\n",
    "transform = {\n",
    "    \"train\": transforms.Compose([\n",
    "        transforms.ToTensor(),\n",
    "        transforms.RandomResizedCrop(224),\n",
    "        transforms.RandomHorizontalFlip(),\n",
    "        transforms.Normalize(mean = [0.485, 0.456, 0.406] , std = [0.229, 0.224, 0.225])\n",
    "    ]),\n",
    "    \"val\": transforms.Compose([\n",
    "        transforms.ToTensor(),\n",
    "        transforms.Resize(224),\n",
    "        transforms.CenterCrop(224),\n",
    "        transforms.Normalize(mean = [0.485, 0.456, 0.406] , std = [0.229, 0.224, 0.225])\n",
    "    ])\n",
    "}\n",
    "\n",
    "# Load dataset\n",
    "dataset = {x: datasets.ImageFolder(root = os.path.join(data_dir, x), transform = transform[x]) for x in [\"train\", \"val\"]}\n",
    "\n",
    "# Make your dataset iteratible and define your batch_size, shuffle and num_workers\n",
    "dataloader = {x: torch.utils.data.DataLoader(dataset[x], batch_size = 4, shuffle=True, num_workers= 0) for x in [\"train\", \"val\"]}\n",
    "\n",
    "# Define my dataset size\n",
    "dataset_sizes = {x: len(dataset[x]) for x in [\"train\",\"val\"]}\n",
    "\n",
    "# Define my device\n",
    "device = torch.device(\"cuda :0\") if torch.cuda.is_available() else print(\"cpu\")"
   ]
  },
  {
   "cell_type": "markdown",
   "id": "included-jonathan",
   "metadata": {},
   "source": [
    "Visualize a few images\n",
    "-------------------------------\n",
    "\n",
    "-  Let's visualize a few training images so as to understand the data augmentations."
   ]
  },
  {
   "cell_type": "code",
   "execution_count": 3,
   "id": "raising-phrase",
   "metadata": {},
   "outputs": [
    {
     "data": {
      "image/png": "[encoded data removed]",
      "text/plain": [
       "<Figure size 432x288 with 1 Axes>"
      ]
     },
     "metadata": {
      "needs_background": "light"
     },
     "output_type": "display_data"
    }
   ],
   "source": [
    "def show(imgs, title=None):\n",
    "    np_imgs = imgs.numpy().transpose(1, 2, 0)\n",
    "    mean = [0.485, 0.456, 0.406] \n",
    "    std = [0.229, 0.224, 0.225]\n",
    "    np_imgs= np_imgs*std + mean\n",
    "    \n",
    "    np_imgs= np.clip(np_imgs, 0, 1)\n",
    "    plt.imshow(np_imgs)\n",
    "    plt.title(title)\n",
    "\n",
    "# Get your batch training dataset    \n",
    "inputs, labels = next(iter(dataloader[\"val\"]))\n",
    "\n",
    "# Make a grid from batch\n",
    "imgs = torchvision.utils.make_grid(inputs)\n",
    "\n",
    "# Showing my images\n",
    "show(imgs, title = [dataset[\"val\"].classes[x] for x in labels])"
   ]
  },
  {
   "cell_type": "markdown",
   "id": "statutory-astronomy",
   "metadata": {},
   "source": [
    " Training the model\n",
    " ------------------\n",
    "\n",
    "-   Now, let's write a general function to train a model. Here, we will illustrate:\n",
    "\n",
    "\n",
    "     -  Scheduling the learning rate\n",
    "    \n",
    "     -  Saving the best model\n",
    "     \n",
    "-   In the following, parameter ``scheduler`` is an LR scheduler object from ``torch.optim.lr_scheduler``."
   ]
  },
  {
   "cell_type": "code",
   "execution_count": 4,
   "id": "italic-plaintiff",
   "metadata": {},
   "outputs": [],
   "source": [
    "def NN(model, optimizer, criterion, scheduler, dataset_size, num_epoch):\n",
    "    best_model = copy.deepcopy(model.state_dict())\n",
    "    best_acc = 0.0\n",
    "    \n",
    "    for epoch in range(num_epoch):\n",
    "        \n",
    "        epoch_loss = 0.0\n",
    "        epoch_acc = 0\n",
    "        \n",
    "        print(\"{}/{}\".format(epoch+1, num_epoch))\n",
    "        \n",
    "        # Each epoch has a training and validation phase\n",
    "        for phase in [\"train\",\"val\"]:\n",
    "            \n",
    "            # Set model to training mode\n",
    "            if phase ==\"train\":\n",
    "                model.train()  \n",
    "            \n",
    "            # Set model to evaluate mode\n",
    "            if phase == \"val\":\n",
    "                model.eval()   \n",
    "            \n",
    "            running_loss = 0.0\n",
    "            running_acc = 0\n",
    "            \n",
    "            # Iterate over data.\n",
    "            for inputs, labels in dataloader[phase]:\n",
    "                \n",
    "                inputs = inputs.to(device)\n",
    "                labels = labels.to(device)\n",
    "                \n",
    "                # zero the parameter gradients\n",
    "                optimizer.zero_grad()\n",
    "                \n",
    "                # forward\n",
    "                # track history if only in train\n",
    "                with torch.set_grad_enabled(phase == \"train\"):\n",
    "                    \n",
    "                    #Forward Propagation\n",
    "                    output = model(inputs)\n",
    "                    _,pred = torch.max(output, 1)\n",
    "                    \n",
    "                    #Loss \n",
    "                    loss = criterion(output, labels.data)\n",
    "                    \n",
    "                    # backward + optimize only if in training phase\n",
    "                    if phase == \"train\":\n",
    "                        loss.backward()\n",
    "                        optimizer.step()\n",
    "                        \n",
    "                #Perform Statistic / To find our running Loss and Acc\n",
    "                running_loss += loss.item() * inputs.size(0)\n",
    "                running_acc += torch.sum(pred == labels.data)\n",
    "                \n",
    "            epoch_loss = running_loss / dataset_size[phase]\n",
    "            epoch_acc = running_acc / dataset_size[phase]\n",
    "            \n",
    "            # Update our learning rate\n",
    "            if phase == \"train\":\n",
    "                scheduler.step()\n",
    "                \n",
    "            print(\"Phase: {}  Epoch Loss : {:.4f}  Epoch Acc : {:.4f}\".format(phase, epoch_loss, epoch_acc))\n",
    "            \n",
    "            if phase == \"val\" and epoch_acc > best_acc:\n",
    "                best_acc = epoch_acc\n",
    "                best_model = copy.deepcopy(model.state_dict())\n",
    "                \n",
    "            \n",
    "        print()\n",
    "        \n",
    "    print(\"Best Acc : {}\".format(best_acc))\n",
    "    \n",
    "    # Load best models weights\n",
    "    model.load_state_dict(best_model)\n",
    "    \n",
    "    return model\n",
    "            "
   ]
  },
  {
   "cell_type": "markdown",
   "id": "embedded-treat",
   "metadata": {},
   "source": [
    "Finetuning the convnet\n",
    " ----------------------\n",
    " \n",
    " -  Load a pretrained model and reset final fully connected layer."
   ]
  },
  {
   "cell_type": "code",
   "execution_count": 5,
   "id": "stuck-delight",
   "metadata": {},
   "outputs": [],
   "source": [
    "model_ft = models.resnet18(pretrained=True)\n",
    "num_ftrs = model_ft.fc.in_features\n",
    "\n",
    "# Here the size of each output sample is set to 2.\n",
    "model_ft.fc = torch.nn.Linear(num_ftrs, 2)\n",
    "\n",
    "model_ft = model_ft.to(device)\n",
    "\n",
    "criterion = torch.nn.CrossEntropyLoss()\n",
    "\n",
    "# Observe that all parameters are being optimized\n",
    "optimizer_ft = torch.optim.SGD(model_ft.parameters(), lr=0.001, momentum=0.9)\n",
    "\n",
    "# Decay LR by a factor of 0.1 every 7 epochs\n",
    "exp_lr_scheduler = torch.optim.lr_scheduler.StepLR(optimizer_ft, step_size=7, gamma=0.1)\n"
   ]
  },
  {
   "cell_type": "markdown",
   "id": "touched-barrier",
   "metadata": {},
   "source": [
    " Train and evaluate:\n",
    " \n",
    " -  It should take around 15-25 min on CPU. On GPU though, it takes less than a minute."
   ]
  },
  {
   "cell_type": "code",
   "execution_count": 6,
   "id": "turkish-heather",
   "metadata": {},
   "outputs": [
    {
     "name": "stdout",
     "output_type": "stream",
     "text": [
      "1/10\n",
      "Phase: train  Epoch Loss : 0.7161  Epoch Acc : 0.6333\n",
      "Phase: val  Epoch Loss : 0.5941  Epoch Acc : 0.6875\n",
      "\n",
      "2/10\n",
      "Phase: train  Epoch Loss : 0.5257  Epoch Acc : 0.6667\n",
      "Phase: val  Epoch Loss : 0.4443  Epoch Acc : 0.8125\n",
      "\n",
      "3/10\n",
      "Phase: train  Epoch Loss : 0.4850  Epoch Acc : 0.7667\n",
      "Phase: val  Epoch Loss : 0.4083  Epoch Acc : 0.8750\n",
      "\n",
      "4/10\n",
      "Phase: train  Epoch Loss : 0.5737  Epoch Acc : 0.8000\n",
      "Phase: val  Epoch Loss : 0.3860  Epoch Acc : 0.8750\n",
      "\n",
      "5/10\n",
      "Phase: train  Epoch Loss : 0.3858  Epoch Acc : 0.8667\n",
      "Phase: val  Epoch Loss : 0.6984  Epoch Acc : 0.6562\n",
      "\n",
      "6/10\n",
      "Phase: train  Epoch Loss : 0.3497  Epoch Acc : 0.8667\n",
      "Phase: val  Epoch Loss : 0.5259  Epoch Acc : 0.8438\n",
      "\n",
      "7/10\n",
      "Phase: train  Epoch Loss : 0.2036  Epoch Acc : 0.9000\n",
      "Phase: val  Epoch Loss : 0.4719  Epoch Acc : 0.8438\n",
      "\n",
      "8/10\n",
      "Phase: train  Epoch Loss : 0.3323  Epoch Acc : 0.9000\n",
      "Phase: val  Epoch Loss : 0.4781  Epoch Acc : 0.8438\n",
      "\n",
      "9/10\n",
      "Phase: train  Epoch Loss : 0.1823  Epoch Acc : 0.8667\n",
      "Phase: val  Epoch Loss : 0.4535  Epoch Acc : 0.8438\n",
      "\n",
      "10/10\n",
      "Phase: train  Epoch Loss : 0.1268  Epoch Acc : 0.9333\n",
      "Phase: val  Epoch Loss : 0.4367  Epoch Acc : 0.8438\n",
      "\n",
      "Best Acc : 0.875\n"
     ]
    }
   ],
   "source": [
    "model_ft = NN(model = model_ft, optimizer = optimizer_ft, criterion = criterion, scheduler = exp_lr_scheduler, dataset_size = dataset_sizes, num_epoch = 10)"
   ]
  },
  {
   "cell_type": "markdown",
   "id": "killing-lunch",
   "metadata": {},
   "source": [
    "ConvNet as fixed feature extractor\n",
    " ----------------------------------\n",
    " \n",
    "-  Here, we need to freeze all the network except the final layer. We need to set ``requires_grad == False`` to freeze the parameters so that the gradients are not computed in ``backward()``."
   ]
  },
  {
   "cell_type": "code",
   "execution_count": 7,
   "id": "fitting-warner",
   "metadata": {},
   "outputs": [],
   "source": [
    "model_conv = torchvision.models.resnet18(pretrained=True)\n",
    "for param in model_conv.parameters():\n",
    "    param.requires_grad = False\n",
    "\n",
    "# Parameters of newly constructed modules have requires_grad=True by default\n",
    "num_ftrs = model_conv.fc.in_features\n",
    "model_conv.fc = torch.nn.Linear(num_ftrs, 2, bias=True)\n",
    "\n",
    "model_conv = model_conv.to(device)\n",
    "\n",
    "criterion = torch.nn.CrossEntropyLoss()\n",
    "\n",
    "# Observe that only parameters of final layer are being optimized as opposed to before.\n",
    "optimizer_conv = torch.optim.SGD(model_conv.fc.parameters(), lr=0.001, momentum=0.9)\n",
    "\n",
    "# Decay LR by a factor of 0.1 every 7 epochs\n",
    "exp_lr_scheduler = torch.optim.lr_scheduler.StepLR(optimizer_conv, step_size=7, gamma=0.1)"
   ]
  },
  {
   "cell_type": "markdown",
   "id": "meaningful-honey",
   "metadata": {},
   "source": [
    "Train and evaluate:\n",
    "\n",
    "-   On CPU this will take about half the time compared to previous scenario. This is expected as gradients don't need to be computed for most of the network. However, forward does need to be computed.\n",
    "\n"
   ]
  },
  {
   "cell_type": "code",
   "execution_count": 8,
   "id": "revolutionary-tonight",
   "metadata": {},
   "outputs": [
    {
     "name": "stdout",
     "output_type": "stream",
     "text": [
      "1/10\n",
      "Phase: train  Epoch Loss : 0.7128  Epoch Acc : 0.6000\n",
      "Phase: val  Epoch Loss : 0.7701  Epoch Acc : 0.5938\n",
      "\n",
      "2/10\n",
      "Phase: train  Epoch Loss : 0.7914  Epoch Acc : 0.4667\n",
      "Phase: val  Epoch Loss : 0.7774  Epoch Acc : 0.5312\n",
      "\n",
      "3/10\n",
      "Phase: train  Epoch Loss : 0.6273  Epoch Acc : 0.6000\n",
      "Phase: val  Epoch Loss : 0.6287  Epoch Acc : 0.6250\n",
      "\n",
      "4/10\n",
      "Phase: train  Epoch Loss : 0.6552  Epoch Acc : 0.6333\n",
      "Phase: val  Epoch Loss : 0.4885  Epoch Acc : 0.7500\n",
      "\n",
      "5/10\n",
      "Phase: train  Epoch Loss : 0.5097  Epoch Acc : 0.7333\n",
      "Phase: val  Epoch Loss : 0.3679  Epoch Acc : 0.8750\n",
      "\n",
      "6/10\n",
      "Phase: train  Epoch Loss : 0.3557  Epoch Acc : 0.8667\n",
      "Phase: val  Epoch Loss : 0.3536  Epoch Acc : 0.9062\n",
      "\n",
      "7/10\n",
      "Phase: train  Epoch Loss : 0.2648  Epoch Acc : 0.9333\n",
      "Phase: val  Epoch Loss : 0.3518  Epoch Acc : 0.9062\n",
      "\n",
      "8/10\n",
      "Phase: train  Epoch Loss : 0.4394  Epoch Acc : 0.7667\n",
      "Phase: val  Epoch Loss : 0.3401  Epoch Acc : 0.9062\n",
      "\n",
      "9/10\n",
      "Phase: train  Epoch Loss : 0.2522  Epoch Acc : 0.9667\n",
      "Phase: val  Epoch Loss : 0.3389  Epoch Acc : 0.9062\n",
      "\n",
      "10/10\n",
      "Phase: train  Epoch Loss : 0.2833  Epoch Acc : 0.8333\n",
      "Phase: val  Epoch Loss : 0.3376  Epoch Acc : 0.9062\n",
      "\n",
      "Best Acc : 0.90625\n"
     ]
    }
   ],
   "source": [
    "\n",
    "model_conv =  NN(model = model_conv, optimizer = optimizer_conv, criterion = criterion, scheduler = exp_lr_scheduler, dataset_size = dataset_sizes, num_epoch = 10)"
   ]
  },
  {
   "cell_type": "code",
   "execution_count": 9,
   "id": "hybrid-commons",
   "metadata": {},
   "outputs": [
    {
     "ename": "NameError",
     "evalue": "name 'model' is not defined",
     "output_type": "error",
     "traceback": [
      "\u001b[0;31m---------------------------------------------------------------------------\u001b[0m",
      "\u001b[0;31mNameError\u001b[0m                                 Traceback (most recent call last)",
      "\u001b[0;32m<ipython-input-9-0b3c6b5561ff>\u001b[0m in \u001b[0;36m<module>\u001b[0;34m\u001b[0m\n\u001b[1;32m      2\u001b[0m \u001b[0mpath\u001b[0m\u001b[0;34m=\u001b[0m \u001b[0;34m\"/home/isack/Desktop/PyCon Tanzania 2021/saved_model/resnet152.pth\"\u001b[0m\u001b[0;34m\u001b[0m\u001b[0;34m\u001b[0m\u001b[0m\n\u001b[1;32m      3\u001b[0m \u001b[0;34m\u001b[0m\u001b[0m\n\u001b[0;32m----> 4\u001b[0;31m \u001b[0mmodel\u001b[0m \u001b[0;34m=\u001b[0m \u001b[0mtorch\u001b[0m\u001b[0;34m.\u001b[0m\u001b[0msave\u001b[0m\u001b[0;34m(\u001b[0m\u001b[0mmodel\u001b[0m\u001b[0;34m,\u001b[0m \u001b[0mpath\u001b[0m\u001b[0;34m)\u001b[0m\u001b[0;34m\u001b[0m\u001b[0;34m\u001b[0m\u001b[0m\n\u001b[0m",
      "\u001b[0;31mNameError\u001b[0m: name 'model' is not defined"
     ]
    }
   ],
   "source": [
    "#saving  model\n",
    "path= \"/home/isack/Desktop/PyCon Tanzania 2021/saved_model/resnet152.pth\"\n",
    "\n",
    "model = torch.save(model, path)"
   ]
  },
  {
   "cell_type": "markdown",
   "id": "afraid-christian",
   "metadata": {},
   "source": [
    "Deploying with Flask\n",
    "===================="
   ]
  },
  {
   "cell_type": "markdown",
   "id": "dirty-chuck",
   "metadata": {},
   "source": [
    "In this tutorial, we will deploy a PyTorch model using Flask and expose a REST API for model inference.\n",
    "Using Flask in this way is by far the easiest way to start serving your PyTorch models, \n",
    "but it will not work for a use case with high performance requirements.\n",
    "\n",
    "For that:\n",
    "- TorchScript, You will Load a TorchScript Model in C++ ."
   ]
  },
  {
   "cell_type": "markdown",
   "id": "saving-theta",
   "metadata": {},
   "source": [
    "What is Flask?\n",
    "--------------\n",
    "\n",
    "Flask is a lightweight web server written in Python. It provides a\n",
    "convenient way for you to quickly set up a web API for predictions from\n",
    "your trained PyTorch model, either for direct use, or as a web service\n",
    "within a larger system.\n"
   ]
  },
  {
   "cell_type": "markdown",
   "id": "vocational-blair",
   "metadata": {},
   "source": [
    "How to install Falsk Using pip \n",
    "----------------------------\n"
   ]
  },
  {
   "cell_type": "code",
   "execution_count": null,
   "id": "satisfied-bikini",
   "metadata": {},
   "outputs": [],
   "source": [
    "pip install Flask==2.0.1 torchvision==0.10.0"
   ]
  },
  {
   "cell_type": "markdown",
   "id": "august-ethiopia",
   "metadata": {},
   "source": [
    "Building Your Flask Service\n",
    "---------------------------\n",
    "\n",
    "The full Python script for the Flask service is shown at the end of this\n",
    "recipe; you can copy and paste that into your own ``app.py`` file. Below\n",
    "we'll look at individual sections to make their functions clear.\n",
    "\n",
    "All of this work is done in any IDE of your choice. Open your IDE start new project\n",
    "and  you have to install flask in your system so that you can be able to import it \n",
    "in your project.\n",
    "\n",
    "Imports\n",
    "~~~~~~~"
   ]
  },
  {
   "cell_type": "markdown",
   "id": "going-least",
   "metadata": {},
   "source": [
    "####  Simple Web Server\n",
    "\n",
    "- Following is a simple webserver:\n",
    "\n"
   ]
  },
  {
   "cell_type": "code",
   "execution_count": null,
   "id": "complicated-eligibility",
   "metadata": {},
   "outputs": [],
   "source": [
    "from flask import Flask\n",
    "\n",
    "\n",
    "app = Flask(__name__)\n",
    "\n",
    "@app.route('/')\n",
    "\n",
    "def hello():\n",
    "\n",
    "return 'Hello World!'"
   ]
  },
  {
   "cell_type": "markdown",
   "id": "transparent-dressing",
   "metadata": {},
   "source": [
    "#### To Run it\n",
    "\n",
    "Open your terminal or cmd and go to the directory of your project and type:\n",
    "\n"
   ]
  },
  {
   "cell_type": "code",
   "execution_count": null,
   "id": "concrete-polyester",
   "metadata": {},
   "outputs": [],
   "source": [
    "FLASK_ENV=development FLASK_APP=app.py flask run"
   ]
  },
  {
   "cell_type": "markdown",
   "id": "hearing-scanner",
   "metadata": {},
   "source": [
    "####  How to render a template\n",
    "\n",
    "- Following is a simple way to render template:\n",
    "\n"
   ]
  },
  {
   "cell_type": "code",
   "execution_count": null,
   "id": "together-twins",
   "metadata": {},
   "outputs": [],
   "source": [
    "from flask import Flask, render_template\n",
    "\n",
    "\n",
    "app = Flask(__name__)\n",
    "\n",
    "@app.route('/')\n",
    "\n",
    "def hello():\n",
    "\n",
    "return render_template 'index.html'"
   ]
  },
  {
   "cell_type": "markdown",
   "id": "solar-activation",
   "metadata": {},
   "source": [
    "#### Inference\n",
    "In this next sections we will focus on writing the inference code.\n",
    "\n",
    "This will involve two parts,\n",
    "- one where we prepare the image so that it can be fed to our model above\n",
    "\n",
    "- we will write the code to get the actual prediction from the\n",
    "  model."
   ]
  },
  {
   "cell_type": "markdown",
   "id": "addressed-banana",
   "metadata": {},
   "source": [
    "#### Preparing the image\n",
    "Our model requires the image to be of 3 channel RGB image of\n",
    "size 224 x 224. We will also normalise the image tensor with the\n",
    "required mean and standard deviation values.\n",
    "We will use transforms from torchvision library and build a\n",
    "transform pipeline, which transforms our images as required.\n",
    "The method will be taking image data in bytes, applies the\n",
    "series of transforms and returns a tensor."
   ]
  },
  {
   "cell_type": "code",
   "execution_count": null,
   "id": "handy-factory",
   "metadata": {},
   "outputs": [],
   "source": [
    "\n",
    "def transform_image(image_byte):\n",
    "\n",
    "    transform=transforms.Compose([\n",
    "        transforms.ToTensor(),\n",
    "        transforms.Resize(225),\n",
    "        transforms.CenterCrop(224),\n",
    "        transforms.Normalize(mean = [0.485, 0.456, 0.406] , std = [0.229, 0.224, 0.225])\n",
    "    ])\n",
    "\n",
    "    image=Image.open(io.BytesIO(image_byte))\n",
    "    return transform(image).unsqueeze(0)\n"
   ]
  },
  {
   "cell_type": "markdown",
   "id": "elegant-salem",
   "metadata": {},
   "source": [
    "#### Prediction\n",
    "Now will use a our model to predict the image class. We will use\n",
    "one that we saved, load the model and get an inference."
   ]
  },
  {
   "cell_type": "code",
   "execution_count": null,
   "id": "grave-triangle",
   "metadata": {},
   "outputs": [],
   "source": [
    "\n",
    "\n",
    "def prediction(model_path, image_byte, class_map):\n",
    "\n",
    "    input = transform_image(image_byte=image_byte)\n",
    "    \n",
    "    model = torch.load(model_path)\n",
    "    model.eval()\n",
    "\n",
    "    output = model(input)\n",
    "    _,pred = torch.max(output, 1)\n",
    "    class_idx = pred.item()\n",
    "    class_name = class_map[class_idx]\n",
    "\n",
    "    return (class_idx, class_name)"
   ]
  },
  {
   "cell_type": "markdown",
   "id": "confused-novelty",
   "metadata": {},
   "source": [
    "#### Integrating the model in our API Server\n",
    "In this final part we will add our model to our Flask API server.\n",
    "Since our API server is supposed to take an image file, we will\n",
    "update our predict method to read files from the requests:"
   ]
  },
  {
   "cell_type": "code",
   "execution_count": null,
   "id": "unlikely-progress",
   "metadata": {},
   "outputs": [],
   "source": [
    "\n",
    "\n",
    "@app.route(\"/\", methods=[\"POST\", \"GET\"])\n",
    "\n",
    "\n",
    "def predict():\n",
    "\n",
    "    if request.method== \"POST\":\n",
    "        file = request.files[\"image\"]\n",
    "\n",
    "        if file:\n",
    "            file_loc = os.path.join(\n",
    "                upload_folder, file.filename\n",
    "            )\n",
    "            file.save(file_loc)\n",
    "\n",
    "            with open(file_loc, 'rb') as f:\n",
    "                img_byte = f.read()\n",
    "                class_idx, class_name = prediction(model_path=model_path, image_byte=img_byte, class_map=class_map)\n",
    "\n",
    "\n",
    "            return render_template(\"result.html\", class_idx= class_idx, class_name =class_name, file_loc= file_loc, file_name=file.filename)\n",
    "\n",
    "       \n",
    "    return render_template (\"index.html\", class_idx= \"None\", class_name =None, file_loc= None)\n",
    "\n",
    "    \n",
    "\n",
    "if __name__==\"__main__\":\n",
    "\n",
    "    app.run(port=5000, debug=True)"
   ]
  },
  {
   "cell_type": "markdown",
   "id": "suspended-detector",
   "metadata": {},
   "source": [
    "It assumes that project folder is called FLASK_API and it organized in the following way: ::\n",
    "---------------------------------------------------------------------\n",
    "- `FLASK_API` (Folder)\n",
    "   - `Static` (Folder)\n",
    "      - css (File)\n",
    "   - `template` (Folder)\n",
    "      - index.html (File)\n",
    "      - result.html (File)\n",
    "      \n",
    "   - app.py (File)"
   ]
  },
  {
   "cell_type": "markdown",
   "id": "victorian-poverty",
   "metadata": {},
   "source": [
    "Running The Full Flask App\n",
    "--------------------------\n",
    "\n",
    "Paste the following into a file called ``app.py``:"
   ]
  },
  {
   "cell_type": "code",
   "execution_count": null,
   "id": "economic-occasion",
   "metadata": {},
   "outputs": [],
   "source": [
    "import os\n",
    "\n",
    "\n",
    "import io\n",
    "\n",
    "\n",
    "from PIL import Image\n",
    "\n",
    "import torch\n",
    "\n",
    "\n",
    "import torchvision\n",
    "\n",
    "\n",
    "from torchvision import transforms\n",
    "\n",
    "\n",
    "from flask import Flask, render_template, request, redirect, url_for\n",
    "\n",
    "\n",
    "\n",
    "\n",
    "app = Flask(__name__)\n",
    "\n",
    "upload_folder=\"/home/isack/Desktop/PyCon Tanzania 2021/Flask_API/static\"\n",
    "\n",
    "\n",
    "model_path = \"/home/isack/Desktop/PyCon Tanzania 2021/saved_model/resnet152.pth\"\n",
    "\n",
    "\n",
    "class_map = {\n",
    "    0 : \"Ant\",\n",
    "    1: \"Bee\"\n",
    "}\n",
    "\n",
    "def transform_image(image_byte):\n",
    "\n",
    "    transform=transforms.Compose([\n",
    "        transforms.ToTensor(),\n",
    "        transforms.Resize(225),\n",
    "        transforms.CenterCrop(224),\n",
    "        transforms.Normalize(mean = [0.485, 0.456, 0.406] , std = [0.229, 0.224, 0.225])\n",
    "    ])\n",
    "\n",
    "    image=Image.open(io.BytesIO(image_byte))\n",
    "    return transform(image).unsqueeze(0)\n",
    "\n",
    "def prediction(model_path, image_byte, class_map):\n",
    "\n",
    "    input = transform_image(image_byte=image_byte)\n",
    "    \n",
    "    model = torch.load(model_path)\n",
    "    model.eval()\n",
    "\n",
    "    output = model(input)\n",
    "    _,pred = torch.max(output, 1)\n",
    "    class_idx = pred.item()\n",
    "    class_name = class_map[class_idx]\n",
    "\n",
    "    return (class_idx, class_name)\n",
    "\n",
    "\n",
    "@app.route(\"/\", methods=[\"POST\", \"GET\"])\n",
    "def predict():\n",
    "\n",
    "    if request.method== \"POST\":\n",
    "        file = request.files[\"image\"]\n",
    "\n",
    "        if file:\n",
    "            file_loc = os.path.join(\n",
    "                upload_folder, file.filename\n",
    "            )\n",
    "            file.save(file_loc)\n",
    "\n",
    "            with open(file_loc, 'rb') as f:\n",
    "                img_byte = f.read()\n",
    "                class_idx, class_name = prediction(model_path=model_path, image_byte=img_byte, class_map=class_map)\n",
    "\n",
    "\n",
    "            return render_template(\"result.html\", class_idx= class_idx, class_name =class_name, file_loc= file_loc, file_name=file.filename)\n",
    "\n",
    "       \n",
    "    return render_template (\"index.html\", class_idx= \"None\", class_name =None, file_loc= None)\n",
    "\n",
    "    \n",
    "\n",
    "if __name__==\"__main__\":\n",
    "\n",
    "    app.run(port=5000, debug=True)"
   ]
  },
  {
   "cell_type": "markdown",
   "id": "comic-tolerance",
   "metadata": {},
   "source": [
    "#### My index html template"
   ]
  },
  {
   "cell_type": "code",
   "execution_count": null,
   "id": "lyric-cancer",
   "metadata": {},
   "outputs": [],
   "source": [
    "\n",
    "\n",
    "<!DOCTYPE html>\n",
    "<!--[if lt IE 7]>      <html class=\"no-js lt-ie9 lt-ie8 lt-ie7\"> <![endif]-->\n",
    "<!--[if IE 7]>         <html class=\"no-js lt-ie9 lt-ie8\"> <![endif]-->\n",
    "<!--[if IE 8]>         <html class=\"no-js lt-ie9\"> <![endif]-->\n",
    "<!--[if gt IE 8]>      <html class=\"no-js\"> <!--<![endif]-->\n",
    "<html>\n",
    "    <head>\n",
    "        <meta charset=\"utf-8\">\n",
    "        <meta http-equiv=\"X-UA-Compatible\" content=\"IE=edge\">\n",
    "        <meta name=\"description\" content=\"\">\n",
    "        <meta name=\"viewport\" content=\"width=device-width, initial-scale=1\">\n",
    "        \n",
    "        <!--Bootstrap Core CSS-->\n",
    "        <link href=\"/static/css/bootstrap.min.css\" rel=\"stylesheet\">\n",
    "        \n",
    "        <!--Custom styles for this template-->\n",
    "        <link rel=\"stylesheet\" href=\"/static/css/form_upload.css\">\n",
    "\n",
    "        <title>Bees & Ants</title>\n",
    "    </head>\n",
    "    <body class=\"text-center\">\n",
    "        <form class=\"form-upload\" method=post enctype=multipart/form-data>\n",
    "          <h4 class=\"h3 mb-3 font-weight-normal\">Classification of Ant and Bee Images</h4>\n",
    "          <br>\n",
    "          <h4 class=\"h3 mb-3 font-weight-normal\">Please Upload Image</h4>\n",
    "          <input type=\"file\" name=\"image\" id=\"image\" class=\"form-control\" required autofocus>\n",
    "          <button class=\"btn btn-lg btn-primary btn-block \" type=\"submit\">Predict</button>\n",
    "          <br>\n",
    "\n",
    "          {% if file_loc==None %}\n",
    "             <h3 class=\"h3 mb-3 font-weight-normal\">Prediction : {{class_idx}}</h3>\n",
    "          {% endif %}\n",
    "\n",
    "        </form>\n",
    "        <script src=\"\" async defer></script>\n",
    "    </body>\n",
    "</html>"
   ]
  },
  {
   "cell_type": "markdown",
   "id": "necessary-drilling",
   "metadata": {},
   "source": [
    "#### My Result html template"
   ]
  },
  {
   "cell_type": "code",
   "execution_count": null,
   "id": "unlike-blair",
   "metadata": {},
   "outputs": [],
   "source": [
    "\n",
    "\n",
    "<!DOCTYPE html>\n",
    "<!--[if lt IE 7]>      <html class=\"no-js lt-ie9 lt-ie8 lt-ie7\"> <![endif]-->\n",
    "<!--[if IE 7]>         <html class=\"no-js lt-ie9 lt-ie8\"> <![endif]-->\n",
    "<!--[if IE 8]>         <html class=\"no-js lt-ie9\"> <![endif]-->\n",
    "<!--[if gt IE 8]>      <html class=\"no-js\"> <!--<![endif]-->\n",
    "<html>\n",
    "    <head>\n",
    "        <meta charset=\"utf-8\">\n",
    "        <meta http-equiv=\"X-UA-Compatible\" content=\"IE=edge\">\n",
    "        <meta name=\"description\" content=\"\">\n",
    "        <meta name=\"viewport\" content=\"width=device-width, initial-scale=1\">\n",
    "        \n",
    "        <!--Bootstrap Core CSS-->\n",
    "        <link href=\"/static/css/bootstrap.min.css\" rel=\"stylesheet\">\n",
    "        \n",
    "        <!--Custom styles for this template-->\n",
    "        <link rel=\"stylesheet\" href=\"/static/css/form_upload.css\">\n",
    "\n",
    "        <title>Bees & Ants</title>\n",
    "    </head>\n",
    "    <body class=\"text-center\">\n",
    "        <form class=\"form-upload\" method=post enctype=multipart/form-data>\n",
    "          <h4 class=\"h3 mb-3 font-weight-normal\">My Prediction</h4>\n",
    "          <br>\n",
    "\n",
    "          {%if file_loc%}\n",
    "             <img class=\"mb-4\" src=static/{{file_name}} alt=\"Not Loaded\" width=\"224\" height=\"224\" />\n",
    "             \n",
    "             <h3 class=\"h3 mb-3 font-weight-normal\">Prediction : {{class_idx}}</h3>\n",
    "             <br>\n",
    "             <h3 class=\"h3 mb-3 font-weight-normal\"> {{class_name}}  Image</h3>\n",
    "             <br>\n",
    "             <a class=\"btn btn-lg btn-primary btn-block \" href=\"/\"> back</a>\n",
    "          {%endif%}\n",
    "\n",
    "        </form>\n",
    "        <script src=\"\" async defer></script>\n",
    "    </body>\n",
    "</html>"
   ]
  },
  {
   "cell_type": "markdown",
   "id": "excited-newman",
   "metadata": {},
   "source": [
    "You can find the css file \n",
    " - you can download it here\n",
    "\n"
   ]
  },
  {
   "cell_type": "code",
   "execution_count": null,
   "id": "married-longitude",
   "metadata": {},
   "outputs": [],
   "source": [
    "https://github.com/twbs/bootstrap/releases/download/v4.0.0/bootstrap-4.0.0-dist.zip"
   ]
  },
  {
   "cell_type": "markdown",
   "id": "homeless-shell",
   "metadata": {},
   "source": [
    "You can find the data file \n",
    " - you can download it here"
   ]
  },
  {
   "cell_type": "code",
   "execution_count": null,
   "id": "preliminary-headline",
   "metadata": {},
   "outputs": [],
   "source": [
    "https://download.pytorch.org/tutorial/hymenoptera_data.zip"
   ]
  }
 ],
 "metadata": {
  "kernelspec": {
   "display_name": "Python 3",
   "language": "python",
   "name": "python3"
  },
  "language_info": {
   "codemirror_mode": {
    "name": "ipython",
    "version": 3
   },
   "file_extension": ".py",
   "mimetype": "text/x-python",
   "name": "python",
   "nbconvert_exporter": "python",
   "pygments_lexer": "ipython3",
   "version": "3.8.10"
  }
 },
 "nbformat": 4,
 "nbformat_minor": 5
}
